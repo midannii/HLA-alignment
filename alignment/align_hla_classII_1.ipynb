{
 "cells": [
  {
   "cell_type": "code",
   "execution_count": 103,
   "metadata": {},
   "outputs": [],
   "source": [
    "import pandas as pd\n",
    "import numpy as np"
   ]
  },
  {
   "cell_type": "code",
   "execution_count": null,
   "metadata": {},
   "outputs": [],
   "source": [
    "%run /home/midan/_midanniiii/0219_2.ipynb"
   ]
  },
  {
   "cell_type": "code",
   "execution_count": null,
   "metadata": {},
   "outputs": [],
   "source": [
    "print(len(hla_dr))\n",
    "print(len(dr_names))\n",
    "print(len(hla_dq))\n",
    "print(len(dq_names))\n",
    "print(len(hla_dp))\n",
    "print(len(dp_name))"
   ]
  },
  {
   "cell_type": "markdown",
   "metadata": {},
   "source": [
    "Multiple alignment"
   ]
  },
  {
   "cell_type": "code",
   "execution_count": null,
   "metadata": {},
   "outputs": [],
   "source": [
    "import Bio\n",
    "from Bio import Align\n",
    "from Bio.Align import Applications"
   ]
  },
  {
   "cell_type": "code",
   "execution_count": 5,
   "metadata": {},
   "outputs": [],
   "source": [
    "# using MUSCLE"
   ]
  },
  {
   "cell_type": "code",
   "execution_count": null,
   "metadata": {},
   "outputs": [],
   "source": [
    "# path \n",
    "import os\n",
    "os.chdir('/home/midan/_midanniiii/IMGTHLA/fasta')"
   ]
  },
  {
   "cell_type": "markdown",
   "metadata": {},
   "source": [
    "## HLA_DPA1"
   ]
  },
  {
   "cell_type": "code",
   "execution_count": 14,
   "metadata": {},
   "outputs": [],
   "source": [
    "from Bio import Align\n",
    "from Bio.Align import Applications\n",
    "from Bio.Align.Applications import MuscleCommandline"
   ]
  },
  {
   "cell_type": "code",
   "execution_count": 15,
   "metadata": {},
   "outputs": [],
   "source": [
    "from Bio import SeqIO\n",
    "records = (r for r in SeqIO.parse('DPA1_prot.fasta', 'fasta') if len(r)<900)"
   ]
  },
  {
   "cell_type": "code",
   "execution_count": 16,
   "metadata": {},
   "outputs": [],
   "source": [
    "from io import StringIO\n",
    "handle = StringIO()\n",
    "SeqIO.write(records, handle, 'fasta')\n",
    "data = handle.getvalue()"
   ]
  },
  {
   "cell_type": "code",
   "execution_count": 17,
   "metadata": {},
   "outputs": [],
   "source": [
    "muscle_exe = '/home/midan/_midanniiii/muscle3.8.31_i86linux64'\n",
    "muscle_cline = MuscleCommandline(muscle_exe)\n",
    "stdout, stderr = muscle_cline(stdin=data)"
   ]
  },
  {
   "cell_type": "code",
   "execution_count": 18,
   "metadata": {},
   "outputs": [],
   "source": [
    "import numpy as np\n",
    "empty = []\n",
    "new = []\n",
    "for i in range(len(stdout)):\n",
    "    if stdout[i] == '>':\n",
    "        new.append(empty)\n",
    "        empty = []\n",
    "    else:\n",
    "        empty.append(stdout[i])"
   ]
  },
  {
   "cell_type": "code",
   "execution_count": 19,
   "metadata": {},
   "outputs": [],
   "source": [
    "align = []\n",
    "for i in range(len(new)):\n",
    "    align.append((','.join(new[i])).replace(',',''))"
   ]
  },
  {
   "cell_type": "code",
   "execution_count": 20,
   "metadata": {},
   "outputs": [],
   "source": [
    "# alignment & name\n",
    "new_align = []\n",
    "names = []\n",
    "for i in range(len(align)):\n",
    "    a = align[i]\n",
    "    p = a.find('p')\n",
    "    new_align.append(align[i][p+2:])\n",
    "    names.append(align[i][:12])"
   ]
  },
  {
   "cell_type": "code",
   "execution_count": 21,
   "metadata": {},
   "outputs": [],
   "source": [
    "for i in range(len(new_align)):\n",
    "    new_align[i] = new_align[i].replace('\\n','')\n",
    "new_align = new_align[1:]\n",
    "names = names[1:]"
   ]
  },
  {
   "cell_type": "code",
   "execution_count": 22,
   "metadata": {},
   "outputs": [],
   "source": [
    "df_dp = pd.DataFrame(data = {'align' : new_align, 'name':names})\n",
    "dp = pd.DataFrame(data = {'name': dp_name, 'alleles': hla_dp})"
   ]
  },
  {
   "cell_type": "code",
   "execution_count": 23,
   "metadata": {},
   "outputs": [],
   "source": [
    "hla_dp = pd.merge(dp,df_dp)\n",
    "hla_dp = hla_dp.drop(['name'], axis=1)"
   ]
  },
  {
   "cell_type": "code",
   "execution_count": 24,
   "metadata": {},
   "outputs": [],
   "source": [
    "aligns = list(hla_dp['align'])\n",
    "align = aligns[0]\n",
    "indices = []\n",
    "for i in range(len(align)):\n",
    "    if align[i] =='-':\n",
    "        indices.append(i)"
   ]
  },
  {
   "cell_type": "code",
   "execution_count": 25,
   "metadata": {},
   "outputs": [
    {
     "data": {
      "text/plain": [
       "0"
      ]
     },
     "execution_count": 25,
     "metadata": {},
     "output_type": "execute_result"
    }
   ],
   "source": [
    "len(indices) # indices of '-' in hla-a"
   ]
  },
  {
   "cell_type": "code",
   "execution_count": 26,
   "metadata": {},
   "outputs": [],
   "source": [
    "new_align = []\n",
    "for i in range(len(aligns)):\n",
    "    align = aligns[i]\n",
    "    a = []\n",
    "    for j in range(len(align)):\n",
    "        if j not in indices:\n",
    "            a.append(align[j])\n",
    "    new_align.append(('').join(a))\n",
    "    new_align[i] = new_align[i].replace('-','*')"
   ]
  },
  {
   "cell_type": "code",
   "execution_count": 27,
   "metadata": {},
   "outputs": [],
   "source": [
    "hla_dp = pd.DataFrame(data = {'alleles': list(hla_dp['alleles']), 'align': new_align })"
   ]
  },
  {
   "cell_type": "code",
   "execution_count": 28,
   "metadata": {},
   "outputs": [
    {
     "data": {
      "text/html": [
       "<div>\n",
       "<style scoped>\n",
       "    .dataframe tbody tr th:only-of-type {\n",
       "        vertical-align: middle;\n",
       "    }\n",
       "\n",
       "    .dataframe tbody tr th {\n",
       "        vertical-align: top;\n",
       "    }\n",
       "\n",
       "    .dataframe thead th {\n",
       "        text-align: right;\n",
       "    }\n",
       "</style>\n",
       "<table border=\"1\" class=\"dataframe\">\n",
       "  <thead>\n",
       "    <tr style=\"text-align: right;\">\n",
       "      <th></th>\n",
       "      <th>alleles</th>\n",
       "      <th>align</th>\n",
       "    </tr>\n",
       "  </thead>\n",
       "  <tbody>\n",
       "    <tr>\n",
       "      <td>0</td>\n",
       "      <td>HLA-DPA1-0103</td>\n",
       "      <td>MRPEDRMFHIRAVILRALSLAFLLSLRGAGAIKADHVSTYAAFVQT...</td>\n",
       "    </tr>\n",
       "    <tr>\n",
       "      <td>1</td>\n",
       "      <td>HLA-DPA1-0104</td>\n",
       "      <td>****************************************AAFVQT...</td>\n",
       "    </tr>\n",
       "    <tr>\n",
       "      <td>2</td>\n",
       "      <td>HLA-DPA1-0105</td>\n",
       "      <td>****************************************AAFVQT...</td>\n",
       "    </tr>\n",
       "    <tr>\n",
       "      <td>3</td>\n",
       "      <td>HLA-DPA1-0106</td>\n",
       "      <td>**********************************DHVSTYAAFVQT...</td>\n",
       "    </tr>\n",
       "    <tr>\n",
       "      <td>4</td>\n",
       "      <td>HLA-DPA1-0107</td>\n",
       "      <td>***********************************HVSTYAAFVQT...</td>\n",
       "    </tr>\n",
       "    <tr>\n",
       "      <td>...</td>\n",
       "      <td>...</td>\n",
       "      <td>...</td>\n",
       "    </tr>\n",
       "    <tr>\n",
       "      <td>62</td>\n",
       "      <td>HLA-DPA1-0304</td>\n",
       "      <td>MRPEDRMFHIRAVILRALSLAFLLSLRGAGAIKADHVSTYAMFVQT...</td>\n",
       "    </tr>\n",
       "    <tr>\n",
       "      <td>63</td>\n",
       "      <td>HLA-DPA1-0305</td>\n",
       "      <td>******MFHIRAVILRALSLAFLLSLRGAGAIKADHVSTYAMFVQT...</td>\n",
       "    </tr>\n",
       "    <tr>\n",
       "      <td>64</td>\n",
       "      <td>HLA-DPA1-0306</td>\n",
       "      <td>**********************************DHVSTYAMFVQT...</td>\n",
       "    </tr>\n",
       "    <tr>\n",
       "      <td>65</td>\n",
       "      <td>HLA-DPA1-0401</td>\n",
       "      <td>MRPEDRMFHIRAVILRALSLAFLLSLRGAGAIKADHVSTYAAFVQT...</td>\n",
       "    </tr>\n",
       "    <tr>\n",
       "      <td>66</td>\n",
       "      <td>HLA-DPA1-0402</td>\n",
       "      <td>MRPEDRMFHIRAVILRALSLAFLLSLRGAGAIKADHVSTYAAFVQT...</td>\n",
       "    </tr>\n",
       "  </tbody>\n",
       "</table>\n",
       "<p>67 rows × 2 columns</p>\n",
       "</div>"
      ],
      "text/plain": [
       "          alleles                                              align\n",
       "0   HLA-DPA1-0103  MRPEDRMFHIRAVILRALSLAFLLSLRGAGAIKADHVSTYAAFVQT...\n",
       "1   HLA-DPA1-0104  ****************************************AAFVQT...\n",
       "2   HLA-DPA1-0105  ****************************************AAFVQT...\n",
       "3   HLA-DPA1-0106  **********************************DHVSTYAAFVQT...\n",
       "4   HLA-DPA1-0107  ***********************************HVSTYAAFVQT...\n",
       "..            ...                                                ...\n",
       "62  HLA-DPA1-0304  MRPEDRMFHIRAVILRALSLAFLLSLRGAGAIKADHVSTYAMFVQT...\n",
       "63  HLA-DPA1-0305  ******MFHIRAVILRALSLAFLLSLRGAGAIKADHVSTYAMFVQT...\n",
       "64  HLA-DPA1-0306  **********************************DHVSTYAMFVQT...\n",
       "65  HLA-DPA1-0401  MRPEDRMFHIRAVILRALSLAFLLSLRGAGAIKADHVSTYAAFVQT...\n",
       "66  HLA-DPA1-0402  MRPEDRMFHIRAVILRALSLAFLLSLRGAGAIKADHVSTYAAFVQT...\n",
       "\n",
       "[67 rows x 2 columns]"
      ]
     },
     "execution_count": 28,
     "metadata": {},
     "output_type": "execute_result"
    }
   ],
   "source": [
    "hla_dp"
   ]
  },
  {
   "cell_type": "code",
   "execution_count": 29,
   "metadata": {},
   "outputs": [],
   "source": [
    "hla_dp.to_csv('/home/midan/_midanniiii/HLA_DP_prot.txt', index=False, header=None, sep=\"\\t\")"
   ]
  },
  {
   "cell_type": "markdown",
   "metadata": {},
   "source": [
    "### HLA_DQA1,DQA2,DQB1"
   ]
  },
  {
   "cell_type": "code",
   "execution_count": null,
   "metadata": {},
   "outputs": [],
   "source": [
    "from Bio import SeqIO\n",
    "records = (r for r in SeqIO.parse('DQA1_prot.fasta', 'fasta') if len(r)<900)"
   ]
  },
  {
   "cell_type": "code",
   "execution_count": null,
   "metadata": {},
   "outputs": [],
   "source": [
    "from io import StringIO\n",
    "handle = StringIO()\n",
    "SeqIO.write(records, handle, 'fasta')\n",
    "data = handle.getvalue()"
   ]
  },
  {
   "cell_type": "code",
   "execution_count": null,
   "metadata": {},
   "outputs": [],
   "source": [
    "muscle_cline = MuscleCommandline('clustal')\n",
    "muscle_exe = '/home/midan/_midanniiii/muscle3.8.31_i86linux64'\n",
    "muscle_cline = MuscleCommandline(muscle_exe)\n",
    "stdout, stderr = muscle_cline(stdin=data)"
   ]
  },
  {
   "cell_type": "code",
   "execution_count": null,
   "metadata": {},
   "outputs": [],
   "source": [
    "import numpy as np\n",
    "empty = []\n",
    "new = []\n",
    "for i in range(len(stdout)):\n",
    "    if stdout[i] == '>':\n",
    "        new.append(empty)\n",
    "        empty = []\n",
    "    else:\n",
    "        empty.append(stdout[i])"
   ]
  },
  {
   "cell_type": "code",
   "execution_count": null,
   "metadata": {},
   "outputs": [],
   "source": [
    "align = []\n",
    "for i in range(len(new)):\n",
    "    align.append((','.join(new[i])).replace(',',''))"
   ]
  },
  {
   "cell_type": "code",
   "execution_count": null,
   "metadata": {},
   "outputs": [],
   "source": [
    "# alignment & name\n",
    "new_align = []\n",
    "names = []\n",
    "for i in range(len(align)):\n",
    "    a = align[i]\n",
    "    p = a.find('p')\n",
    "    new_align.append(align[i][p+2:])\n",
    "    names.append(align[i][:12])"
   ]
  },
  {
   "cell_type": "code",
   "execution_count": null,
   "metadata": {},
   "outputs": [],
   "source": [
    "for i in range(len(new_align)):\n",
    "    new_align[i] = new_align[i].replace('\\n','')\n",
    "new_align = new_align[1:]\n",
    "names = names[1:]"
   ]
  },
  {
   "cell_type": "code",
   "execution_count": null,
   "metadata": {},
   "outputs": [],
   "source": [
    "df_dqa1 = pd.DataFrame(data = {'align' : new_align, 'name':names})"
   ]
  },
  {
   "cell_type": "code",
   "execution_count": null,
   "metadata": {},
   "outputs": [],
   "source": [
    "df_dqa1"
   ]
  },
  {
   "cell_type": "code",
   "execution_count": null,
   "metadata": {},
   "outputs": [],
   "source": [
    "from Bio import SeqIO\n",
    "records = (r for r in SeqIO.parse('DQA2_prot.fasta', 'fasta') if len(r)<900)"
   ]
  },
  {
   "cell_type": "code",
   "execution_count": null,
   "metadata": {},
   "outputs": [],
   "source": [
    "from io import StringIO\n",
    "handle = StringIO()\n",
    "SeqIO.write(records, handle, 'fasta')\n",
    "data = handle.getvalue()"
   ]
  },
  {
   "cell_type": "code",
   "execution_count": null,
   "metadata": {},
   "outputs": [],
   "source": [
    "muscle_cline = MuscleCommandline('clustal')\n",
    "muscle_exe = '/home/midan/_midanniiii/muscle3.8.31_i86linux64'\n",
    "muscle_cline = MuscleCommandline(muscle_exe)\n",
    "stdout, stderr = muscle_cline(stdin=data)"
   ]
  },
  {
   "cell_type": "code",
   "execution_count": null,
   "metadata": {},
   "outputs": [],
   "source": [
    "import numpy as np\n",
    "empty = []\n",
    "new = []\n",
    "for i in range(len(stdout)):\n",
    "    if stdout[i] == '>':\n",
    "        new.append(empty)\n",
    "        empty = []\n",
    "    else:\n",
    "        empty.append(stdout[i])"
   ]
  },
  {
   "cell_type": "code",
   "execution_count": null,
   "metadata": {},
   "outputs": [],
   "source": [
    "align = []\n",
    "for i in range(len(new)):\n",
    "    align.append((','.join(new[i])).replace(',',''))"
   ]
  },
  {
   "cell_type": "code",
   "execution_count": null,
   "metadata": {},
   "outputs": [],
   "source": [
    "# alignment & name\n",
    "new_align = []\n",
    "names = []\n",
    "for i in range(len(align)):\n",
    "    a = align[i]\n",
    "    p = a.find('p')\n",
    "    new_align.append(align[i][p+2:])\n",
    "    names.append(align[i][:12])"
   ]
  },
  {
   "cell_type": "code",
   "execution_count": null,
   "metadata": {},
   "outputs": [],
   "source": [
    "for i in range(len(new_align)):\n",
    "    new_align[i] = new_align[i].replace('\\n','')\n",
    "new_align = new_align[1:]\n",
    "names = names[1:]"
   ]
  },
  {
   "cell_type": "code",
   "execution_count": null,
   "metadata": {},
   "outputs": [],
   "source": [
    "df_dqa2 = pd.DataFrame(data = {'align' : new_align, 'name':names})"
   ]
  },
  {
   "cell_type": "code",
   "execution_count": null,
   "metadata": {},
   "outputs": [],
   "source": [
    "from Bio import SeqIO\n",
    "records = (r for r in SeqIO.parse('DQB1_prot.fasta', 'fasta') if len(r)<900)"
   ]
  },
  {
   "cell_type": "code",
   "execution_count": null,
   "metadata": {},
   "outputs": [],
   "source": [
    "from io import StringIO\n",
    "handle = StringIO()\n",
    "SeqIO.write(records, handle, 'fasta')\n",
    "data = handle.getvalue()"
   ]
  },
  {
   "cell_type": "code",
   "execution_count": null,
   "metadata": {},
   "outputs": [],
   "source": [
    "muscle_cline = MuscleCommandline('clustal')\n",
    "muscle_exe = '/home/midan/_midanniiii/muscle3.8.31_i86linux64'\n",
    "muscle_cline = MuscleCommandline(muscle_exe)\n",
    "stdout, stderr = muscle_cline(stdin=data)"
   ]
  },
  {
   "cell_type": "code",
   "execution_count": null,
   "metadata": {},
   "outputs": [],
   "source": [
    "import numpy as np\n",
    "empty = []\n",
    "new = []\n",
    "for i in range(len(stdout)):\n",
    "    if stdout[i] == '>':\n",
    "        new.append(empty)\n",
    "        empty = []\n",
    "    else:\n",
    "        empty.append(stdout[i])"
   ]
  },
  {
   "cell_type": "code",
   "execution_count": null,
   "metadata": {},
   "outputs": [],
   "source": [
    "align = []\n",
    "for i in range(len(new)):\n",
    "    align.append((','.join(new[i])).replace(',',''))"
   ]
  },
  {
   "cell_type": "code",
   "execution_count": null,
   "metadata": {},
   "outputs": [],
   "source": [
    "# alignment & name\n",
    "new_align = []\n",
    "names = []\n",
    "for i in range(len(align)):\n",
    "    a = align[i]\n",
    "    p = a.find('p')\n",
    "    new_align.append(align[i][p+2:])\n",
    "    names.append(align[i][:12])"
   ]
  },
  {
   "cell_type": "code",
   "execution_count": null,
   "metadata": {},
   "outputs": [],
   "source": [
    "for i in range(len(new_align)):\n",
    "    new_align[i] = new_align[i].replace('\\n','')\n",
    "new_align = new_align[1:]\n",
    "names = names[1:]"
   ]
  },
  {
   "cell_type": "code",
   "execution_count": null,
   "metadata": {},
   "outputs": [],
   "source": [
    "df_dqb1 = pd.DataFrame(data = {'align' : new_align, 'name':names})"
   ]
  },
  {
   "cell_type": "code",
   "execution_count": null,
   "metadata": {},
   "outputs": [],
   "source": [
    "df_dq = pd.concat([df_dqa1, df_dqa2, df_dqb1])"
   ]
  },
  {
   "cell_type": "code",
   "execution_count": null,
   "metadata": {},
   "outputs": [],
   "source": [
    "dq_name = list(df_dq['name'])\n",
    "dq_align = list(df_dq['align'])\n",
    "\n",
    "for i in range(len(dq_align)):\n",
    "    dq_align[i] = dq_align[i].replace('-','*')\n",
    "\n",
    "df_dq = pd.DataFrame(data = {'name':dq_name, 'align':dq_align})"
   ]
  },
  {
   "cell_type": "code",
   "execution_count": null,
   "metadata": {},
   "outputs": [],
   "source": [
    "dq = pd.DataFrame(data = {'name': dq_names, 'alleles': hla_dq})"
   ]
  },
  {
   "cell_type": "code",
   "execution_count": null,
   "metadata": {},
   "outputs": [],
   "source": [
    "hla_dq = pd.merge(dq, df_dq)"
   ]
  },
  {
   "cell_type": "code",
   "execution_count": null,
   "metadata": {},
   "outputs": [],
   "source": [
    "hla_dq = hla_dq.drop(['name'], axis=1)\n",
    "hla_dq"
   ]
  },
  {
   "cell_type": "code",
   "execution_count": null,
   "metadata": {},
   "outputs": [],
   "source": [
    "hla_dq.to_csv('/home/midan/_midanniiii/HLA_DQ_prot.txt', index=False, header=None, sep=\"\\t\")"
   ]
  },
  {
   "cell_type": "code",
   "execution_count": null,
   "metadata": {},
   "outputs": [],
   "source": []
  },
  {
   "cell_type": "markdown",
   "metadata": {},
   "source": [
    "## HLA_DRA, DRB1, DRB345"
   ]
  },
  {
   "cell_type": "code",
   "execution_count": 61,
   "metadata": {},
   "outputs": [],
   "source": [
    "from Bio import SeqIO\n",
    "records = (r for r in SeqIO.parse('DRA_prot.fasta', 'fasta') if len(r)<900)"
   ]
  },
  {
   "cell_type": "code",
   "execution_count": 62,
   "metadata": {},
   "outputs": [],
   "source": [
    "from io import StringIO\n",
    "handle = StringIO()\n",
    "SeqIO.write(records, handle, 'fasta')\n",
    "data = handle.getvalue()"
   ]
  },
  {
   "cell_type": "code",
   "execution_count": 63,
   "metadata": {},
   "outputs": [],
   "source": [
    "muscle_cline = MuscleCommandline('clustal')\n",
    "muscle_exe = '/home/midan/_midanniiii/muscle3.8.31_i86linux64'\n",
    "muscle_cline = MuscleCommandline(muscle_exe)\n",
    "stdout, stderr = muscle_cline(stdin=data)"
   ]
  },
  {
   "cell_type": "code",
   "execution_count": 64,
   "metadata": {},
   "outputs": [],
   "source": [
    "import numpy as np\n",
    "empty = []\n",
    "new = []\n",
    "for i in range(len(stdout)):\n",
    "    if stdout[i] == '>':\n",
    "        new.append(empty)\n",
    "        empty = []\n",
    "    else:\n",
    "        empty.append(stdout[i])"
   ]
  },
  {
   "cell_type": "code",
   "execution_count": 65,
   "metadata": {},
   "outputs": [],
   "source": [
    "align = []\n",
    "for i in range(len(new)):\n",
    "    align.append((','.join(new[i])).replace(',',''))"
   ]
  },
  {
   "cell_type": "code",
   "execution_count": 66,
   "metadata": {},
   "outputs": [],
   "source": [
    "# alignment & name\n",
    "new_align = []\n",
    "names = []\n",
    "for i in range(len(align)):\n",
    "    a = align[i]\n",
    "    p = a.find('p')\n",
    "    new_align.append(align[i][p+2:])\n",
    "    names.append(align[i][:12])"
   ]
  },
  {
   "cell_type": "code",
   "execution_count": 67,
   "metadata": {},
   "outputs": [],
   "source": [
    "for i in range(len(new_align)):\n",
    "    new_align[i] = new_align[i].replace('\\n','')\n",
    "new_align = new_align[1:]\n",
    "names = names[1:]"
   ]
  },
  {
   "cell_type": "code",
   "execution_count": 68,
   "metadata": {},
   "outputs": [],
   "source": [
    "m = new_align[0].find('M')\n",
    "for i in range(len(new_align)):\n",
    "    new_align[i] = new_align[i][m:]"
   ]
  },
  {
   "cell_type": "code",
   "execution_count": 69,
   "metadata": {},
   "outputs": [],
   "source": [
    "df_drb = pd.DataFrame(data = {'align' : new_align, 'name':names})"
   ]
  },
  {
   "cell_type": "code",
   "execution_count": null,
   "metadata": {},
   "outputs": [],
   "source": []
  },
  {
   "cell_type": "code",
   "execution_count": 70,
   "metadata": {},
   "outputs": [],
   "source": [
    "from Bio import SeqIO\n",
    "records = (r for r in SeqIO.parse('DRB1_prot.fasta', 'fasta') if len(r)<900)"
   ]
  },
  {
   "cell_type": "code",
   "execution_count": 71,
   "metadata": {},
   "outputs": [],
   "source": [
    "from io import StringIO\n",
    "handle = StringIO()\n",
    "SeqIO.write(records, handle, 'fasta')\n",
    "data = handle.getvalue()"
   ]
  },
  {
   "cell_type": "code",
   "execution_count": 72,
   "metadata": {},
   "outputs": [],
   "source": [
    "muscle_cline = MuscleCommandline('clustal')\n",
    "muscle_exe = '/home/midan/_midanniiii/muscle3.8.31_i86linux64'\n",
    "muscle_cline = MuscleCommandline(muscle_exe)\n",
    "stdout, stderr = muscle_cline(stdin=data)"
   ]
  },
  {
   "cell_type": "code",
   "execution_count": 73,
   "metadata": {},
   "outputs": [],
   "source": [
    "import numpy as np\n",
    "empty = []\n",
    "new = []\n",
    "for i in range(len(stdout)):\n",
    "    if stdout[i] == '>':\n",
    "        new.append(empty)\n",
    "        empty = []\n",
    "    else:\n",
    "        empty.append(stdout[i])"
   ]
  },
  {
   "cell_type": "code",
   "execution_count": 74,
   "metadata": {},
   "outputs": [],
   "source": [
    "align = []\n",
    "for i in range(len(new)):\n",
    "    align.append((','.join(new[i])).replace(',',''))"
   ]
  },
  {
   "cell_type": "code",
   "execution_count": 75,
   "metadata": {},
   "outputs": [],
   "source": [
    "# alignment & name\n",
    "new_align = []\n",
    "names = []\n",
    "for i in range(len(align)):\n",
    "    a = align[i]\n",
    "    p = a.find('p')\n",
    "    new_align.append(align[i][p+2:])\n",
    "    names.append(align[i][:12])"
   ]
  },
  {
   "cell_type": "code",
   "execution_count": 76,
   "metadata": {},
   "outputs": [],
   "source": [
    "for i in range(len(new_align)):\n",
    "    new_align[i] = new_align[i].replace('\\n','')\n",
    "new_align = new_align[1:]\n",
    "names = names[1:]"
   ]
  },
  {
   "cell_type": "code",
   "execution_count": 77,
   "metadata": {},
   "outputs": [],
   "source": [
    "df_drb1 = pd.DataFrame(data = {'align' : new_align, 'name':names})"
   ]
  },
  {
   "cell_type": "code",
   "execution_count": 78,
   "metadata": {},
   "outputs": [],
   "source": [
    "from Bio import SeqIO\n",
    "records = (r for r in SeqIO.parse('DRB345_prot.fasta', 'fasta') if len(r)<900)"
   ]
  },
  {
   "cell_type": "code",
   "execution_count": 79,
   "metadata": {},
   "outputs": [],
   "source": [
    "from io import StringIO\n",
    "handle = StringIO()\n",
    "SeqIO.write(records, handle, 'fasta')\n",
    "data = handle.getvalue()"
   ]
  },
  {
   "cell_type": "code",
   "execution_count": 80,
   "metadata": {},
   "outputs": [],
   "source": [
    "muscle_cline = MuscleCommandline('clustal')\n",
    "muscle_exe = '/home/midan/_midanniiii/muscle3.8.31_i86linux64'\n",
    "muscle_cline = MuscleCommandline(muscle_exe)\n",
    "stdout, stderr = muscle_cline(stdin=data)"
   ]
  },
  {
   "cell_type": "code",
   "execution_count": 81,
   "metadata": {},
   "outputs": [],
   "source": [
    "import numpy as np\n",
    "empty = []\n",
    "new = []\n",
    "for i in range(len(stdout)):\n",
    "    if stdout[i] == '>':\n",
    "        new.append(empty)\n",
    "        empty = []\n",
    "    else:\n",
    "        empty.append(stdout[i])"
   ]
  },
  {
   "cell_type": "code",
   "execution_count": 82,
   "metadata": {},
   "outputs": [],
   "source": [
    "align = []\n",
    "for i in range(len(new)):\n",
    "    align.append((','.join(new[i])).replace(',',''))"
   ]
  },
  {
   "cell_type": "code",
   "execution_count": 83,
   "metadata": {},
   "outputs": [],
   "source": [
    "# alignment & name\n",
    "new_align = []\n",
    "names = []\n",
    "for i in range(len(align)):\n",
    "    a = align[i]\n",
    "    p = a.find('p')\n",
    "    new_align.append(align[i][p+2:])\n",
    "    names.append(align[i][:12])"
   ]
  },
  {
   "cell_type": "code",
   "execution_count": 84,
   "metadata": {},
   "outputs": [],
   "source": [
    "for i in range(len(new_align)):\n",
    "    new_align[i] = new_align[i].replace('\\n','')\n",
    "new_align = new_align[1:]\n",
    "names = names[1:]"
   ]
  },
  {
   "cell_type": "code",
   "execution_count": 85,
   "metadata": {},
   "outputs": [],
   "source": [
    "df_drb345 = pd.DataFrame(data = {'align' : new_align, 'name':names})"
   ]
  },
  {
   "cell_type": "code",
   "execution_count": 86,
   "metadata": {},
   "outputs": [],
   "source": [
    "df_dr = pd.concat([df_drb, df_drb1, df_drb345])"
   ]
  },
  {
   "cell_type": "code",
   "execution_count": 87,
   "metadata": {},
   "outputs": [],
   "source": [
    "dr_name = list(df_dr['name'])\n",
    "dr_align = list(df_dr['align'])\n",
    "\n",
    "for i in range(len(dr_align)):\n",
    "    dr_align[i] = dr_align[i].replace('-','*')\n",
    "\n",
    "df_dr = pd.DataFrame(data = {'name':dr_name, 'align':dr_align})"
   ]
  },
  {
   "cell_type": "code",
   "execution_count": 88,
   "metadata": {},
   "outputs": [],
   "source": [
    "dr_names = list(data_of_dr['name'])\n",
    "hla_dr = list(data_of_dr['alleles'])"
   ]
  },
  {
   "cell_type": "code",
   "execution_count": 89,
   "metadata": {},
   "outputs": [],
   "source": [
    "dr = pd.DataFrame(data = {'name': dr_names, 'alleles': hla_dr})"
   ]
  },
  {
   "cell_type": "code",
   "execution_count": 90,
   "metadata": {},
   "outputs": [],
   "source": [
    "name = list(dr['name'].unique())\n",
    "alleles = list(dr['alleles'].unique())"
   ]
  },
  {
   "cell_type": "code",
   "execution_count": 91,
   "metadata": {},
   "outputs": [],
   "source": [
    "dr = pd.DataFrame(data = {'name':name, 'alleles':alleles})"
   ]
  },
  {
   "cell_type": "code",
   "execution_count": 92,
   "metadata": {},
   "outputs": [],
   "source": [
    "# concat with name, alleles, alignments\n",
    "hla_dr = pd.merge(dr, df_dr)"
   ]
  },
  {
   "cell_type": "code",
   "execution_count": 93,
   "metadata": {},
   "outputs": [],
   "source": [
    "hla_dr = hla_dr.drop(['name'], axis=1)"
   ]
  },
  {
   "cell_type": "code",
   "execution_count": 94,
   "metadata": {},
   "outputs": [
    {
     "data": {
      "text/plain": [
       "1988"
      ]
     },
     "execution_count": 94,
     "metadata": {},
     "output_type": "execute_result"
    }
   ],
   "source": [
    "len(hla_dr['alleles'].unique())"
   ]
  },
  {
   "cell_type": "code",
   "execution_count": 95,
   "metadata": {},
   "outputs": [],
   "source": [
    "hla_dr.to_csv('/home/midan/_midanniiii/HLA_DR_prot.txt', index=False, header=None, sep=\"\\t\")"
   ]
  },
  {
   "cell_type": "code",
   "execution_count": 96,
   "metadata": {},
   "outputs": [
    {
     "data": {
      "text/html": [
       "<div>\n",
       "<style scoped>\n",
       "    .dataframe tbody tr th:only-of-type {\n",
       "        vertical-align: middle;\n",
       "    }\n",
       "\n",
       "    .dataframe tbody tr th {\n",
       "        vertical-align: top;\n",
       "    }\n",
       "\n",
       "    .dataframe thead th {\n",
       "        text-align: right;\n",
       "    }\n",
       "</style>\n",
       "<table border=\"1\" class=\"dataframe\">\n",
       "  <thead>\n",
       "    <tr style=\"text-align: right;\">\n",
       "      <th></th>\n",
       "      <th>alleles</th>\n",
       "      <th>align</th>\n",
       "    </tr>\n",
       "  </thead>\n",
       "  <tbody>\n",
       "    <tr>\n",
       "      <td>0</td>\n",
       "      <td>HLA-DRA-0101</td>\n",
       "      <td>MAISGVPVLGFFIIAVLMSAQESWAIKEEHVIIQAEFYLNPDQSGE...</td>\n",
       "    </tr>\n",
       "    <tr>\n",
       "      <td>1</td>\n",
       "      <td>HLA-DRA-0102</td>\n",
       "      <td>****************************EHVIIQAEFYLNPDQSGE...</td>\n",
       "    </tr>\n",
       "    <tr>\n",
       "      <td>2</td>\n",
       "      <td>HLA-DRB1-0104</td>\n",
       "      <td>******************************DTRPRFLWQ*******...</td>\n",
       "    </tr>\n",
       "    <tr>\n",
       "      <td>3</td>\n",
       "      <td>HLA-DRB1-0104</td>\n",
       "      <td>******************************DTRPRFLWQLKFECHF...</td>\n",
       "    </tr>\n",
       "    <tr>\n",
       "      <td>4</td>\n",
       "      <td>HLA-DRB1-0105</td>\n",
       "      <td>**********************************RFLWQ*******...</td>\n",
       "    </tr>\n",
       "    <tr>\n",
       "      <td>...</td>\n",
       "      <td>...</td>\n",
       "      <td>...</td>\n",
       "    </tr>\n",
       "    <tr>\n",
       "      <td>3969</td>\n",
       "      <td>HLA-DRB1-1609</td>\n",
       "      <td>**********************************RFLWQPKRECHF...</td>\n",
       "    </tr>\n",
       "    <tr>\n",
       "      <td>3970</td>\n",
       "      <td>HLA-DRB1-1610</td>\n",
       "      <td>**********************************RFLWQ*******...</td>\n",
       "    </tr>\n",
       "    <tr>\n",
       "      <td>3971</td>\n",
       "      <td>HLA-DRB1-1610</td>\n",
       "      <td>**********************************RFLWQPKRECHF...</td>\n",
       "    </tr>\n",
       "    <tr>\n",
       "      <td>3972</td>\n",
       "      <td>HLA-DRB1-1638</td>\n",
       "      <td>**********************************RFLWQ*******...</td>\n",
       "    </tr>\n",
       "    <tr>\n",
       "      <td>3973</td>\n",
       "      <td>HLA-DRB1-1638</td>\n",
       "      <td>**********************************RFLWQPKRECHF...</td>\n",
       "    </tr>\n",
       "  </tbody>\n",
       "</table>\n",
       "<p>3974 rows × 2 columns</p>\n",
       "</div>"
      ],
      "text/plain": [
       "             alleles                                              align\n",
       "0       HLA-DRA-0101  MAISGVPVLGFFIIAVLMSAQESWAIKEEHVIIQAEFYLNPDQSGE...\n",
       "1       HLA-DRA-0102  ****************************EHVIIQAEFYLNPDQSGE...\n",
       "2     HLA-DRB1-0104   ******************************DTRPRFLWQ*******...\n",
       "3     HLA-DRB1-0104   ******************************DTRPRFLWQLKFECHF...\n",
       "4      HLA-DRB1-0105  **********************************RFLWQ*******...\n",
       "...              ...                                                ...\n",
       "3969   HLA-DRB1-1609  **********************************RFLWQPKRECHF...\n",
       "3970   HLA-DRB1-1610  **********************************RFLWQ*******...\n",
       "3971   HLA-DRB1-1610  **********************************RFLWQPKRECHF...\n",
       "3972   HLA-DRB1-1638  **********************************RFLWQ*******...\n",
       "3973   HLA-DRB1-1638  **********************************RFLWQPKRECHF...\n",
       "\n",
       "[3974 rows x 2 columns]"
      ]
     },
     "execution_count": 96,
     "metadata": {},
     "output_type": "execute_result"
    }
   ],
   "source": [
    "hla_dr"
   ]
  },
  {
   "cell_type": "code",
   "execution_count": 97,
   "metadata": {},
   "outputs": [],
   "source": [
    "# delete overlapped"
   ]
  },
  {
   "cell_type": "code",
   "execution_count": 98,
   "metadata": {},
   "outputs": [],
   "source": [
    "dr = np.asarray(hla_dr)"
   ]
  },
  {
   "cell_type": "code",
   "execution_count": 99,
   "metadata": {},
   "outputs": [],
   "source": [
    "overlaped = []\n",
    "for i in range(len(dr)-1):\n",
    "    if dr[i][1] == dr[i+1][1]:\n",
    "        overlaped.append(i)"
   ]
  },
  {
   "cell_type": "code",
   "execution_count": 100,
   "metadata": {},
   "outputs": [],
   "source": [
    "for o in overlaped:\n",
    "    if o%2!=0:\n",
    "        print(o)"
   ]
  },
  {
   "cell_type": "code",
   "execution_count": 101,
   "metadata": {},
   "outputs": [],
   "source": [
    "# HLA-DRA는 다 하나씩, HLA-DRB는 두개씩 존재함 "
   ]
  },
  {
   "cell_type": "code",
   "execution_count": null,
   "metadata": {},
   "outputs": [],
   "source": [
    "dr_allele = []\n",
    "dr_align = []"
   ]
  },
  {
   "cell_type": "code",
   "execution_count": null,
   "metadata": {},
   "outputs": [],
   "source": [
    "for i in range(len(dr)):\n",
    "    if i <3:\n",
    "        dr_allele.append(dr[i][1])\n",
    "        dr_align.append(dr[i][2])\n",
    "    elif i%2 == 0:\n",
    "        dr_allele.append(dr[i][1])\n",
    "        dr_align.append(dr[i][2])"
   ]
  },
  {
   "cell_type": "code",
   "execution_count": null,
   "metadata": {},
   "outputs": [],
   "source": [
    "hla_dr = pd.DataFrame(data = {'alleles': dr_allele, 'align': dr_align})"
   ]
  },
  {
   "cell_type": "code",
   "execution_count": null,
   "metadata": {},
   "outputs": [],
   "source": [
    "hla_dr"
   ]
  },
  {
   "cell_type": "code",
   "execution_count": null,
   "metadata": {},
   "outputs": [],
   "source": [
    "hla_dr.to_csv('/home/midan/_midanniiii/HLA_DR_prot.txt', index=False, header=None, sep=\"\\t\")"
   ]
  },
  {
   "cell_type": "code",
   "execution_count": null,
   "metadata": {},
   "outputs": [],
   "source": []
  },
  {
   "cell_type": "code",
   "execution_count": null,
   "metadata": {},
   "outputs": [],
   "source": []
  },
  {
   "cell_type": "code",
   "execution_count": null,
   "metadata": {},
   "outputs": [],
   "source": []
  }
 ],
 "metadata": {
  "kernelspec": {
   "display_name": "Python 3",
   "language": "python",
   "name": "python3"
  },
  "language_info": {
   "codemirror_mode": {
    "name": "ipython",
    "version": 3
   },
   "file_extension": ".py",
   "mimetype": "text/x-python",
   "name": "python",
   "nbconvert_exporter": "python",
   "pygments_lexer": "ipython3",
   "version": "3.7.4"
  }
 },
 "nbformat": 4,
 "nbformat_minor": 4
}
